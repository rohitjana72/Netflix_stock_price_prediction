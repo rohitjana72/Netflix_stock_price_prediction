{
 "cells": [
  {
   "cell_type": "code",
   "execution_count": 2,
   "id": "92afc4d7",
   "metadata": {},
   "outputs": [],
   "source": [
    "#importing necessary libraries"
   ]
  },
  {
   "cell_type": "code",
   "execution_count": 307,
   "id": "90f0dcae",
   "metadata": {},
   "outputs": [],
   "source": [
    "from statsmodels.tsa.statespace.sarimax import SARIMAX\n",
    "from statsmodels.tsa.arima_process import ArmaProcess\n",
    "from statsmodels.graphics.tsaplots import plot_acf\n",
    "from statsmodels.tsa.stattools import adfuller\n",
    "import matplotlib.pyplot as plt\n",
    "import numpy as np\n",
    "import pandas as pd\n",
    "\n",
    "import warnings\n",
    "warnings.filterwarnings('ignore')\n",
    "\n",
    "%matplotlib inline"
   ]
  },
  {
   "cell_type": "code",
   "execution_count": 308,
   "id": "e1d88de2",
   "metadata": {
    "scrolled": true
   },
   "outputs": [
    {
     "data": {
      "text/html": [
       "<div>\n",
       "<style scoped>\n",
       "    .dataframe tbody tr th:only-of-type {\n",
       "        vertical-align: middle;\n",
       "    }\n",
       "\n",
       "    .dataframe tbody tr th {\n",
       "        vertical-align: top;\n",
       "    }\n",
       "\n",
       "    .dataframe thead th {\n",
       "        text-align: right;\n",
       "    }\n",
       "</style>\n",
       "<table border=\"1\" class=\"dataframe\">\n",
       "  <thead>\n",
       "    <tr style=\"text-align: right;\">\n",
       "      <th></th>\n",
       "      <th>Date</th>\n",
       "      <th>Open</th>\n",
       "      <th>High</th>\n",
       "      <th>Low</th>\n",
       "      <th>Close</th>\n",
       "      <th>Adj Close</th>\n",
       "      <th>Volume</th>\n",
       "    </tr>\n",
       "  </thead>\n",
       "  <tbody>\n",
       "    <tr>\n",
       "      <th>0</th>\n",
       "      <td>2018-02-05</td>\n",
       "      <td>262.000000</td>\n",
       "      <td>267.899994</td>\n",
       "      <td>250.029999</td>\n",
       "      <td>254.259995</td>\n",
       "      <td>254.259995</td>\n",
       "      <td>11896100</td>\n",
       "    </tr>\n",
       "    <tr>\n",
       "      <th>1</th>\n",
       "      <td>2018-02-06</td>\n",
       "      <td>247.699997</td>\n",
       "      <td>266.700012</td>\n",
       "      <td>245.000000</td>\n",
       "      <td>265.720001</td>\n",
       "      <td>265.720001</td>\n",
       "      <td>12595800</td>\n",
       "    </tr>\n",
       "    <tr>\n",
       "      <th>2</th>\n",
       "      <td>2018-02-07</td>\n",
       "      <td>266.579987</td>\n",
       "      <td>272.450012</td>\n",
       "      <td>264.329987</td>\n",
       "      <td>264.559998</td>\n",
       "      <td>264.559998</td>\n",
       "      <td>8981500</td>\n",
       "    </tr>\n",
       "    <tr>\n",
       "      <th>3</th>\n",
       "      <td>2018-02-08</td>\n",
       "      <td>267.079987</td>\n",
       "      <td>267.619995</td>\n",
       "      <td>250.000000</td>\n",
       "      <td>250.100006</td>\n",
       "      <td>250.100006</td>\n",
       "      <td>9306700</td>\n",
       "    </tr>\n",
       "    <tr>\n",
       "      <th>4</th>\n",
       "      <td>2018-02-09</td>\n",
       "      <td>253.850006</td>\n",
       "      <td>255.800003</td>\n",
       "      <td>236.110001</td>\n",
       "      <td>249.470001</td>\n",
       "      <td>249.470001</td>\n",
       "      <td>16906900</td>\n",
       "    </tr>\n",
       "  </tbody>\n",
       "</table>\n",
       "</div>"
      ],
      "text/plain": [
       "         Date        Open        High         Low       Close   Adj Close  \\\n",
       "0  2018-02-05  262.000000  267.899994  250.029999  254.259995  254.259995   \n",
       "1  2018-02-06  247.699997  266.700012  245.000000  265.720001  265.720001   \n",
       "2  2018-02-07  266.579987  272.450012  264.329987  264.559998  264.559998   \n",
       "3  2018-02-08  267.079987  267.619995  250.000000  250.100006  250.100006   \n",
       "4  2018-02-09  253.850006  255.800003  236.110001  249.470001  249.470001   \n",
       "\n",
       "     Volume  \n",
       "0  11896100  \n",
       "1  12595800  \n",
       "2   8981500  \n",
       "3   9306700  \n",
       "4  16906900  "
      ]
     },
     "execution_count": 308,
     "metadata": {},
     "output_type": "execute_result"
    }
   ],
   "source": [
    "#import netflix stock price dataset\n",
    "df=pd.read_csv(\"C:/Users/Rohit Jana/Downloads/archive (10).zip\")\n",
    "df.head()"
   ]
  },
  {
   "cell_type": "code",
   "execution_count": 309,
   "id": "f08de1ec",
   "metadata": {},
   "outputs": [],
   "source": [
    "# Here we will be interested in univeriate time series analysis to forecast open price \n",
    "# of netflix "
   ]
  },
  {
   "cell_type": "code",
   "execution_count": 310,
   "id": "ea74c748",
   "metadata": {},
   "outputs": [
    {
     "data": {
      "text/html": [
       "<div>\n",
       "<style scoped>\n",
       "    .dataframe tbody tr th:only-of-type {\n",
       "        vertical-align: middle;\n",
       "    }\n",
       "\n",
       "    .dataframe tbody tr th {\n",
       "        vertical-align: top;\n",
       "    }\n",
       "\n",
       "    .dataframe thead th {\n",
       "        text-align: right;\n",
       "    }\n",
       "</style>\n",
       "<table border=\"1\" class=\"dataframe\">\n",
       "  <thead>\n",
       "    <tr style=\"text-align: right;\">\n",
       "      <th></th>\n",
       "      <th>Date</th>\n",
       "      <th>Open</th>\n",
       "    </tr>\n",
       "  </thead>\n",
       "  <tbody>\n",
       "    <tr>\n",
       "      <th>0</th>\n",
       "      <td>2018-02-05</td>\n",
       "      <td>262.000000</td>\n",
       "    </tr>\n",
       "    <tr>\n",
       "      <th>1</th>\n",
       "      <td>2018-02-06</td>\n",
       "      <td>247.699997</td>\n",
       "    </tr>\n",
       "    <tr>\n",
       "      <th>2</th>\n",
       "      <td>2018-02-07</td>\n",
       "      <td>266.579987</td>\n",
       "    </tr>\n",
       "    <tr>\n",
       "      <th>3</th>\n",
       "      <td>2018-02-08</td>\n",
       "      <td>267.079987</td>\n",
       "    </tr>\n",
       "    <tr>\n",
       "      <th>4</th>\n",
       "      <td>2018-02-09</td>\n",
       "      <td>253.850006</td>\n",
       "    </tr>\n",
       "  </tbody>\n",
       "</table>\n",
       "</div>"
      ],
      "text/plain": [
       "         Date        Open\n",
       "0  2018-02-05  262.000000\n",
       "1  2018-02-06  247.699997\n",
       "2  2018-02-07  266.579987\n",
       "3  2018-02-08  267.079987\n",
       "4  2018-02-09  253.850006"
      ]
     },
     "execution_count": 310,
     "metadata": {},
     "output_type": "execute_result"
    }
   ],
   "source": [
    "# make a new data frame\n",
    "netflix=df[[\"Date\",\"Open\"]]\n",
    "netflix.head()"
   ]
  },
  {
   "cell_type": "code",
   "execution_count": 311,
   "id": "acc677b5",
   "metadata": {
    "scrolled": true
   },
   "outputs": [
    {
     "data": {
      "text/html": [
       "<div>\n",
       "<style scoped>\n",
       "    .dataframe tbody tr th:only-of-type {\n",
       "        vertical-align: middle;\n",
       "    }\n",
       "\n",
       "    .dataframe tbody tr th {\n",
       "        vertical-align: top;\n",
       "    }\n",
       "\n",
       "    .dataframe thead th {\n",
       "        text-align: right;\n",
       "    }\n",
       "</style>\n",
       "<table border=\"1\" class=\"dataframe\">\n",
       "  <thead>\n",
       "    <tr style=\"text-align: right;\">\n",
       "      <th></th>\n",
       "      <th>Open</th>\n",
       "    </tr>\n",
       "  </thead>\n",
       "  <tbody>\n",
       "    <tr>\n",
       "      <th>count</th>\n",
       "      <td>1009.000000</td>\n",
       "    </tr>\n",
       "    <tr>\n",
       "      <th>mean</th>\n",
       "      <td>419.059673</td>\n",
       "    </tr>\n",
       "    <tr>\n",
       "      <th>std</th>\n",
       "      <td>108.537532</td>\n",
       "    </tr>\n",
       "    <tr>\n",
       "      <th>min</th>\n",
       "      <td>233.919998</td>\n",
       "    </tr>\n",
       "    <tr>\n",
       "      <th>25%</th>\n",
       "      <td>331.489990</td>\n",
       "    </tr>\n",
       "    <tr>\n",
       "      <th>50%</th>\n",
       "      <td>377.769989</td>\n",
       "    </tr>\n",
       "    <tr>\n",
       "      <th>75%</th>\n",
       "      <td>509.130005</td>\n",
       "    </tr>\n",
       "    <tr>\n",
       "      <th>max</th>\n",
       "      <td>692.349976</td>\n",
       "    </tr>\n",
       "  </tbody>\n",
       "</table>\n",
       "</div>"
      ],
      "text/plain": [
       "              Open\n",
       "count  1009.000000\n",
       "mean    419.059673\n",
       "std     108.537532\n",
       "min     233.919998\n",
       "25%     331.489990\n",
       "50%     377.769989\n",
       "75%     509.130005\n",
       "max     692.349976"
      ]
     },
     "execution_count": 311,
     "metadata": {},
     "output_type": "execute_result"
    }
   ],
   "source": [
    "#summary of netflix data\n",
    "netflix.describe()"
   ]
  },
  {
   "cell_type": "code",
   "execution_count": 312,
   "id": "8111ad0a",
   "metadata": {},
   "outputs": [
    {
     "data": {
      "text/plain": [
       "(1009, 2)"
      ]
     },
     "execution_count": 312,
     "metadata": {},
     "output_type": "execute_result"
    }
   ],
   "source": [
    "netflix.shape"
   ]
  },
  {
   "cell_type": "code",
   "execution_count": 313,
   "id": "f402f493",
   "metadata": {
    "scrolled": true
   },
   "outputs": [
    {
     "data": {
      "text/plain": [
       "Date    0\n",
       "Open    0\n",
       "dtype: int64"
      ]
     },
     "execution_count": 313,
     "metadata": {},
     "output_type": "execute_result"
    }
   ],
   "source": [
    "#check missing values\n",
    "netflix.isna().sum() # no missing value is there"
   ]
  },
  {
   "cell_type": "code",
   "execution_count": 314,
   "id": "75d7ced2",
   "metadata": {
    "scrolled": true
   },
   "outputs": [
    {
     "data": {
      "text/html": [
       "<div>\n",
       "<style scoped>\n",
       "    .dataframe tbody tr th:only-of-type {\n",
       "        vertical-align: middle;\n",
       "    }\n",
       "\n",
       "    .dataframe tbody tr th {\n",
       "        vertical-align: top;\n",
       "    }\n",
       "\n",
       "    .dataframe thead th {\n",
       "        text-align: right;\n",
       "    }\n",
       "</style>\n",
       "<table border=\"1\" class=\"dataframe\">\n",
       "  <thead>\n",
       "    <tr style=\"text-align: right;\">\n",
       "      <th></th>\n",
       "      <th>Date</th>\n",
       "      <th>Open</th>\n",
       "    </tr>\n",
       "    <tr>\n",
       "      <th>Date</th>\n",
       "      <th></th>\n",
       "      <th></th>\n",
       "    </tr>\n",
       "  </thead>\n",
       "  <tbody>\n",
       "    <tr>\n",
       "      <th>2018-02-05</th>\n",
       "      <td>2018-02-05</td>\n",
       "      <td>262.000000</td>\n",
       "    </tr>\n",
       "    <tr>\n",
       "      <th>2018-02-06</th>\n",
       "      <td>2018-02-06</td>\n",
       "      <td>247.699997</td>\n",
       "    </tr>\n",
       "    <tr>\n",
       "      <th>2018-02-07</th>\n",
       "      <td>2018-02-07</td>\n",
       "      <td>266.579987</td>\n",
       "    </tr>\n",
       "    <tr>\n",
       "      <th>2018-02-08</th>\n",
       "      <td>2018-02-08</td>\n",
       "      <td>267.079987</td>\n",
       "    </tr>\n",
       "    <tr>\n",
       "      <th>2018-02-09</th>\n",
       "      <td>2018-02-09</td>\n",
       "      <td>253.850006</td>\n",
       "    </tr>\n",
       "  </tbody>\n",
       "</table>\n",
       "</div>"
      ],
      "text/plain": [
       "                  Date        Open\n",
       "Date                              \n",
       "2018-02-05  2018-02-05  262.000000\n",
       "2018-02-06  2018-02-06  247.699997\n",
       "2018-02-07  2018-02-07  266.579987\n",
       "2018-02-08  2018-02-08  267.079987\n",
       "2018-02-09  2018-02-09  253.850006"
      ]
     },
     "execution_count": 314,
     "metadata": {},
     "output_type": "execute_result"
    }
   ],
   "source": [
    "netflix.index=netflix['Date']\n",
    "netflix.head()\n"
   ]
  },
  {
   "cell_type": "code",
   "execution_count": 315,
   "id": "4229efeb",
   "metadata": {},
   "outputs": [
    {
     "data": {
      "text/html": [
       "<div>\n",
       "<style scoped>\n",
       "    .dataframe tbody tr th:only-of-type {\n",
       "        vertical-align: middle;\n",
       "    }\n",
       "\n",
       "    .dataframe tbody tr th {\n",
       "        vertical-align: top;\n",
       "    }\n",
       "\n",
       "    .dataframe thead th {\n",
       "        text-align: right;\n",
       "    }\n",
       "</style>\n",
       "<table border=\"1\" class=\"dataframe\">\n",
       "  <thead>\n",
       "    <tr style=\"text-align: right;\">\n",
       "      <th></th>\n",
       "      <th>Open</th>\n",
       "    </tr>\n",
       "    <tr>\n",
       "      <th>Date</th>\n",
       "      <th></th>\n",
       "    </tr>\n",
       "  </thead>\n",
       "  <tbody>\n",
       "    <tr>\n",
       "      <th>2018-02-05</th>\n",
       "      <td>262.000000</td>\n",
       "    </tr>\n",
       "    <tr>\n",
       "      <th>2018-02-06</th>\n",
       "      <td>247.699997</td>\n",
       "    </tr>\n",
       "    <tr>\n",
       "      <th>2018-02-07</th>\n",
       "      <td>266.579987</td>\n",
       "    </tr>\n",
       "    <tr>\n",
       "      <th>2018-02-08</th>\n",
       "      <td>267.079987</td>\n",
       "    </tr>\n",
       "    <tr>\n",
       "      <th>2018-02-09</th>\n",
       "      <td>253.850006</td>\n",
       "    </tr>\n",
       "  </tbody>\n",
       "</table>\n",
       "</div>"
      ],
      "text/plain": [
       "                  Open\n",
       "Date                  \n",
       "2018-02-05  262.000000\n",
       "2018-02-06  247.699997\n",
       "2018-02-07  266.579987\n",
       "2018-02-08  267.079987\n",
       "2018-02-09  253.850006"
      ]
     },
     "execution_count": 315,
     "metadata": {},
     "output_type": "execute_result"
    }
   ],
   "source": [
    "nf=netflix.drop(['Date'],axis=1)\n",
    "nf.head()"
   ]
  },
  {
   "cell_type": "code",
   "execution_count": 316,
   "id": "8283c0e4",
   "metadata": {
    "scrolled": true
   },
   "outputs": [
    {
     "data": {
      "text/plain": [
       "<AxesSubplot:xlabel='Date'>"
      ]
     },
     "execution_count": 316,
     "metadata": {},
     "output_type": "execute_result"
    },
    {
     "data": {
      "image/png": "[encoded data removed]",
      "text/plain": [
       "<Figure size 432x288 with 1 Axes>"
      ]
     },
     "metadata": {
      "needs_background": "light"
     },
     "output_type": "display_data"
    }
   ],
   "source": [
    "# plot netflix data\n",
    "nf.plot() "
   ]
  },
  {
   "cell_type": "code",
   "execution_count": 263,
   "id": "f8850990",
   "metadata": {
    "scrolled": false
   },
   "outputs": [
    {
     "data": {
      "image/png": "[encoded data removed]",
      "text/plain": [
       "<Figure size 432x288 with 4 Axes>"
      ]
     },
     "execution_count": 263,
     "metadata": {},
     "output_type": "execute_result"
    },
    {
     "data": {
      "image/png": "[encoded data removed]",
      "text/plain": [
       "<Figure size 432x288 with 4 Axes>"
      ]
     },
     "metadata": {
      "needs_background": "light"
     },
     "output_type": "display_data"
    }
   ],
   "source": [
    "from statsmodels.tsa.seasonal import seasonal_decompose\n",
    "result1=seasonal_decompose(nf['Open'],model='additive',freq=365)\n",
    "result1.plot()"
   ]
  },
  {
   "cell_type": "code",
   "execution_count": 264,
   "id": "0d2c1590",
   "metadata": {},
   "outputs": [],
   "source": [
    "# as seasionality is not constant."
   ]
  },
  {
   "cell_type": "code",
   "execution_count": null,
   "id": "0bd4de09",
   "metadata": {},
   "outputs": [],
   "source": [
    "# Fit baseline models"
   ]
  },
  {
   "cell_type": "code",
   "execution_count": 317,
   "id": "22dc8678",
   "metadata": {},
   "outputs": [],
   "source": [
    "#test train split\n",
    "train=nf[:-200]\n",
    "test=nf[-200:]"
   ]
  },
  {
   "cell_type": "code",
   "execution_count": 318,
   "id": "4a6b075a",
   "metadata": {
    "scrolled": true
   },
   "outputs": [
    {
     "data": {
      "text/html": [
       "<div>\n",
       "<style scoped>\n",
       "    .dataframe tbody tr th:only-of-type {\n",
       "        vertical-align: middle;\n",
       "    }\n",
       "\n",
       "    .dataframe tbody tr th {\n",
       "        vertical-align: top;\n",
       "    }\n",
       "\n",
       "    .dataframe thead th {\n",
       "        text-align: right;\n",
       "    }\n",
       "</style>\n",
       "<table border=\"1\" class=\"dataframe\">\n",
       "  <thead>\n",
       "    <tr style=\"text-align: right;\">\n",
       "      <th></th>\n",
       "      <th>Open</th>\n",
       "    </tr>\n",
       "    <tr>\n",
       "      <th>Date</th>\n",
       "      <th></th>\n",
       "    </tr>\n",
       "  </thead>\n",
       "  <tbody>\n",
       "    <tr>\n",
       "      <th>2018-02-05</th>\n",
       "      <td>262.000000</td>\n",
       "    </tr>\n",
       "    <tr>\n",
       "      <th>2018-02-06</th>\n",
       "      <td>247.699997</td>\n",
       "    </tr>\n",
       "    <tr>\n",
       "      <th>2018-02-07</th>\n",
       "      <td>266.579987</td>\n",
       "    </tr>\n",
       "    <tr>\n",
       "      <th>2018-02-08</th>\n",
       "      <td>267.079987</td>\n",
       "    </tr>\n",
       "    <tr>\n",
       "      <th>2018-02-09</th>\n",
       "      <td>253.850006</td>\n",
       "    </tr>\n",
       "  </tbody>\n",
       "</table>\n",
       "</div>"
      ],
      "text/plain": [
       "                  Open\n",
       "Date                  \n",
       "2018-02-05  262.000000\n",
       "2018-02-06  247.699997\n",
       "2018-02-07  266.579987\n",
       "2018-02-08  267.079987\n",
       "2018-02-09  253.850006"
      ]
     },
     "execution_count": 318,
     "metadata": {},
     "output_type": "execute_result"
    }
   ],
   "source": [
    "train.head()"
   ]
  },
  {
   "cell_type": "code",
   "execution_count": 319,
   "id": "78a48e7d",
   "metadata": {
    "scrolled": true
   },
   "outputs": [
    {
     "data": {
      "text/plain": [
       "(809, 1)"
      ]
     },
     "execution_count": 319,
     "metadata": {},
     "output_type": "execute_result"
    }
   ],
   "source": [
    "train.shape"
   ]
  },
  {
   "cell_type": "code",
   "execution_count": 320,
   "id": "d1e9fb90",
   "metadata": {
    "scrolled": true
   },
   "outputs": [
    {
     "data": {
      "text/plain": [
       "(200, 1)"
      ]
     },
     "execution_count": 320,
     "metadata": {},
     "output_type": "execute_result"
    }
   ],
   "source": [
    "test.shape"
   ]
  },
  {
   "cell_type": "code",
   "execution_count": 321,
   "id": "e3571d7c",
   "metadata": {},
   "outputs": [
    {
     "data": {
      "text/plain": [
       "384.5569716946848"
      ]
     },
     "execution_count": 321,
     "metadata": {},
     "output_type": "execute_result"
    }
   ],
   "source": [
    "#predict Historical mean for last 200 days\n",
    "historical_mean=np.mean(train['Open'])\n",
    "historical_mean"
   ]
  },
  {
   "cell_type": "code",
   "execution_count": 322,
   "id": "41d63815",
   "metadata": {
    "scrolled": true
   },
   "outputs": [
    {
     "data": {
      "text/html": [
       "<div>\n",
       "<style scoped>\n",
       "    .dataframe tbody tr th:only-of-type {\n",
       "        vertical-align: middle;\n",
       "    }\n",
       "\n",
       "    .dataframe tbody tr th {\n",
       "        vertical-align: top;\n",
       "    }\n",
       "\n",
       "    .dataframe thead th {\n",
       "        text-align: right;\n",
       "    }\n",
       "</style>\n",
       "<table border=\"1\" class=\"dataframe\">\n",
       "  <thead>\n",
       "    <tr style=\"text-align: right;\">\n",
       "      <th></th>\n",
       "      <th>Open</th>\n",
       "      <th>pred_mean</th>\n",
       "    </tr>\n",
       "    <tr>\n",
       "      <th>Date</th>\n",
       "      <th></th>\n",
       "      <th></th>\n",
       "    </tr>\n",
       "  </thead>\n",
       "  <tbody>\n",
       "    <tr>\n",
       "      <th>2021-04-23</th>\n",
       "      <td>509.010010</td>\n",
       "      <td>384.556972</td>\n",
       "    </tr>\n",
       "    <tr>\n",
       "      <th>2021-04-26</th>\n",
       "      <td>506.760010</td>\n",
       "      <td>384.556972</td>\n",
       "    </tr>\n",
       "    <tr>\n",
       "      <th>2021-04-27</th>\n",
       "      <td>512.619995</td>\n",
       "      <td>384.556972</td>\n",
       "    </tr>\n",
       "    <tr>\n",
       "      <th>2021-04-28</th>\n",
       "      <td>505.200012</td>\n",
       "      <td>384.556972</td>\n",
       "    </tr>\n",
       "    <tr>\n",
       "      <th>2021-04-29</th>\n",
       "      <td>507.600006</td>\n",
       "      <td>384.556972</td>\n",
       "    </tr>\n",
       "    <tr>\n",
       "      <th>...</th>\n",
       "      <td>...</td>\n",
       "      <td>...</td>\n",
       "    </tr>\n",
       "    <tr>\n",
       "      <th>2022-01-31</th>\n",
       "      <td>401.970001</td>\n",
       "      <td>384.556972</td>\n",
       "    </tr>\n",
       "    <tr>\n",
       "      <th>2022-02-01</th>\n",
       "      <td>432.959991</td>\n",
       "      <td>384.556972</td>\n",
       "    </tr>\n",
       "    <tr>\n",
       "      <th>2022-02-02</th>\n",
       "      <td>448.250000</td>\n",
       "      <td>384.556972</td>\n",
       "    </tr>\n",
       "    <tr>\n",
       "      <th>2022-02-03</th>\n",
       "      <td>421.440002</td>\n",
       "      <td>384.556972</td>\n",
       "    </tr>\n",
       "    <tr>\n",
       "      <th>2022-02-04</th>\n",
       "      <td>407.309998</td>\n",
       "      <td>384.556972</td>\n",
       "    </tr>\n",
       "  </tbody>\n",
       "</table>\n",
       "<p>200 rows × 2 columns</p>\n",
       "</div>"
      ],
      "text/plain": [
       "                  Open   pred_mean\n",
       "Date                              \n",
       "2021-04-23  509.010010  384.556972\n",
       "2021-04-26  506.760010  384.556972\n",
       "2021-04-27  512.619995  384.556972\n",
       "2021-04-28  505.200012  384.556972\n",
       "2021-04-29  507.600006  384.556972\n",
       "...                ...         ...\n",
       "2022-01-31  401.970001  384.556972\n",
       "2022-02-01  432.959991  384.556972\n",
       "2022-02-02  448.250000  384.556972\n",
       "2022-02-03  421.440002  384.556972\n",
       "2022-02-04  407.309998  384.556972\n",
       "\n",
       "[200 rows x 2 columns]"
      ]
     },
     "execution_count": 322,
     "metadata": {},
     "output_type": "execute_result"
    }
   ],
   "source": [
    "test.loc[:,'pred_mean']=historical_mean\n",
    "test"
   ]
  },
  {
   "cell_type": "code",
   "execution_count": 323,
   "id": "e033b4dc",
   "metadata": {},
   "outputs": [],
   "source": [
    "def mape(y_true, y_pred):\n",
    "    return np.mean(np.abs((y_true - y_pred) / y_true)) * 100"
   ]
  },
  {
   "cell_type": "code",
   "execution_count": 324,
   "id": "6f732cf9",
   "metadata": {},
   "outputs": [
    {
     "data": {
      "text/plain": [
       "30.02086640106253"
      ]
     },
     "execution_count": 324,
     "metadata": {},
     "output_type": "execute_result"
    }
   ],
   "source": [
    "mape_hist_mean=mape(test['Open'],test['pred_mean'])\n",
    "mape_hist_mean\n",
    "#This means that our baseline deviates\n",
    "#by 30.02% on average from the observed daily  nextflix open price"
   ]
  },
  {
   "cell_type": "code",
   "execution_count": 325,
   "id": "c0688f78",
   "metadata": {},
   "outputs": [
    {
     "data": {
      "text/plain": [
       "514.545699445"
      ]
     },
     "execution_count": 325,
     "metadata": {},
     "output_type": "execute_result"
    }
   ],
   "source": [
    "#predict last 200 days mean\n",
    "last_thdays_mean=np.mean(train['Open'][-200:])\n",
    "last_thdays_mean"
   ]
  },
  {
   "cell_type": "code",
   "execution_count": 275,
   "id": "60058d13",
   "metadata": {},
   "outputs": [
    {
     "data": {
      "text/html": [
       "<div>\n",
       "<style scoped>\n",
       "    .dataframe tbody tr th:only-of-type {\n",
       "        vertical-align: middle;\n",
       "    }\n",
       "\n",
       "    .dataframe tbody tr th {\n",
       "        vertical-align: top;\n",
       "    }\n",
       "\n",
       "    .dataframe thead th {\n",
       "        text-align: right;\n",
       "    }\n",
       "</style>\n",
       "<table border=\"1\" class=\"dataframe\">\n",
       "  <thead>\n",
       "    <tr style=\"text-align: right;\">\n",
       "      <th></th>\n",
       "      <th>Open</th>\n",
       "      <th>pred_mean</th>\n",
       "      <th>pred_last_thdays_mean</th>\n",
       "    </tr>\n",
       "    <tr>\n",
       "      <th>Date</th>\n",
       "      <th></th>\n",
       "      <th></th>\n",
       "      <th></th>\n",
       "    </tr>\n",
       "  </thead>\n",
       "  <tbody>\n",
       "    <tr>\n",
       "      <th>2021-04-23</th>\n",
       "      <td>509.010010</td>\n",
       "      <td>384.556972</td>\n",
       "      <td>514.545699</td>\n",
       "    </tr>\n",
       "    <tr>\n",
       "      <th>2021-04-26</th>\n",
       "      <td>506.760010</td>\n",
       "      <td>384.556972</td>\n",
       "      <td>514.545699</td>\n",
       "    </tr>\n",
       "    <tr>\n",
       "      <th>2021-04-27</th>\n",
       "      <td>512.619995</td>\n",
       "      <td>384.556972</td>\n",
       "      <td>514.545699</td>\n",
       "    </tr>\n",
       "    <tr>\n",
       "      <th>2021-04-28</th>\n",
       "      <td>505.200012</td>\n",
       "      <td>384.556972</td>\n",
       "      <td>514.545699</td>\n",
       "    </tr>\n",
       "    <tr>\n",
       "      <th>2021-04-29</th>\n",
       "      <td>507.600006</td>\n",
       "      <td>384.556972</td>\n",
       "      <td>514.545699</td>\n",
       "    </tr>\n",
       "    <tr>\n",
       "      <th>...</th>\n",
       "      <td>...</td>\n",
       "      <td>...</td>\n",
       "      <td>...</td>\n",
       "    </tr>\n",
       "    <tr>\n",
       "      <th>2022-01-31</th>\n",
       "      <td>401.970001</td>\n",
       "      <td>384.556972</td>\n",
       "      <td>514.545699</td>\n",
       "    </tr>\n",
       "    <tr>\n",
       "      <th>2022-02-01</th>\n",
       "      <td>432.959991</td>\n",
       "      <td>384.556972</td>\n",
       "      <td>514.545699</td>\n",
       "    </tr>\n",
       "    <tr>\n",
       "      <th>2022-02-02</th>\n",
       "      <td>448.250000</td>\n",
       "      <td>384.556972</td>\n",
       "      <td>514.545699</td>\n",
       "    </tr>\n",
       "    <tr>\n",
       "      <th>2022-02-03</th>\n",
       "      <td>421.440002</td>\n",
       "      <td>384.556972</td>\n",
       "      <td>514.545699</td>\n",
       "    </tr>\n",
       "    <tr>\n",
       "      <th>2022-02-04</th>\n",
       "      <td>407.309998</td>\n",
       "      <td>384.556972</td>\n",
       "      <td>514.545699</td>\n",
       "    </tr>\n",
       "  </tbody>\n",
       "</table>\n",
       "<p>200 rows × 3 columns</p>\n",
       "</div>"
      ],
      "text/plain": [
       "                  Open   pred_mean  pred_last_thdays_mean\n",
       "Date                                                     \n",
       "2021-04-23  509.010010  384.556972             514.545699\n",
       "2021-04-26  506.760010  384.556972             514.545699\n",
       "2021-04-27  512.619995  384.556972             514.545699\n",
       "2021-04-28  505.200012  384.556972             514.545699\n",
       "2021-04-29  507.600006  384.556972             514.545699\n",
       "...                ...         ...                    ...\n",
       "2022-01-31  401.970001  384.556972             514.545699\n",
       "2022-02-01  432.959991  384.556972             514.545699\n",
       "2022-02-02  448.250000  384.556972             514.545699\n",
       "2022-02-03  421.440002  384.556972             514.545699\n",
       "2022-02-04  407.309998  384.556972             514.545699\n",
       "\n",
       "[200 rows x 3 columns]"
      ]
     },
     "execution_count": 275,
     "metadata": {},
     "output_type": "execute_result"
    }
   ],
   "source": [
    "test.loc[:,\"pred_last_thdays_mean\"]=last_thdays_mean\n",
    "test"
   ]
  },
  {
   "cell_type": "code",
   "execution_count": 276,
   "id": "baf83978",
   "metadata": {},
   "outputs": [
    {
     "data": {
      "text/plain": [
       "10.895982016419573"
      ]
     },
     "execution_count": 276,
     "metadata": {},
     "output_type": "execute_result"
    }
   ],
   "source": [
    "#mape of last thdays mean\n",
    "mape_last_thdays_mean=mape(test['Open'],test['pred_last_thdays_mean'])\n",
    "mape_last_thdays_mean"
   ]
  },
  {
   "cell_type": "code",
   "execution_count": 277,
   "id": "0c31dbef",
   "metadata": {},
   "outputs": [
    {
     "data": {
      "text/plain": [
       "513.820007"
      ]
     },
     "execution_count": 277,
     "metadata": {},
     "output_type": "execute_result"
    }
   ],
   "source": [
    "#predict last know value\n",
    "last=train['Open'].iloc[-1]\n",
    "last"
   ]
  },
  {
   "cell_type": "code",
   "execution_count": 278,
   "id": "9462461a",
   "metadata": {},
   "outputs": [
    {
     "data": {
      "text/html": [
       "<div>\n",
       "<style scoped>\n",
       "    .dataframe tbody tr th:only-of-type {\n",
       "        vertical-align: middle;\n",
       "    }\n",
       "\n",
       "    .dataframe tbody tr th {\n",
       "        vertical-align: top;\n",
       "    }\n",
       "\n",
       "    .dataframe thead th {\n",
       "        text-align: right;\n",
       "    }\n",
       "</style>\n",
       "<table border=\"1\" class=\"dataframe\">\n",
       "  <thead>\n",
       "    <tr style=\"text-align: right;\">\n",
       "      <th></th>\n",
       "      <th>Open</th>\n",
       "      <th>pred_mean</th>\n",
       "      <th>pred_last_thdays_mean</th>\n",
       "      <th>pred_last</th>\n",
       "    </tr>\n",
       "    <tr>\n",
       "      <th>Date</th>\n",
       "      <th></th>\n",
       "      <th></th>\n",
       "      <th></th>\n",
       "      <th></th>\n",
       "    </tr>\n",
       "  </thead>\n",
       "  <tbody>\n",
       "    <tr>\n",
       "      <th>2021-04-23</th>\n",
       "      <td>509.010010</td>\n",
       "      <td>384.556972</td>\n",
       "      <td>514.545699</td>\n",
       "      <td>513.820007</td>\n",
       "    </tr>\n",
       "    <tr>\n",
       "      <th>2021-04-26</th>\n",
       "      <td>506.760010</td>\n",
       "      <td>384.556972</td>\n",
       "      <td>514.545699</td>\n",
       "      <td>513.820007</td>\n",
       "    </tr>\n",
       "    <tr>\n",
       "      <th>2021-04-27</th>\n",
       "      <td>512.619995</td>\n",
       "      <td>384.556972</td>\n",
       "      <td>514.545699</td>\n",
       "      <td>513.820007</td>\n",
       "    </tr>\n",
       "    <tr>\n",
       "      <th>2021-04-28</th>\n",
       "      <td>505.200012</td>\n",
       "      <td>384.556972</td>\n",
       "      <td>514.545699</td>\n",
       "      <td>513.820007</td>\n",
       "    </tr>\n",
       "    <tr>\n",
       "      <th>2021-04-29</th>\n",
       "      <td>507.600006</td>\n",
       "      <td>384.556972</td>\n",
       "      <td>514.545699</td>\n",
       "      <td>513.820007</td>\n",
       "    </tr>\n",
       "    <tr>\n",
       "      <th>...</th>\n",
       "      <td>...</td>\n",
       "      <td>...</td>\n",
       "      <td>...</td>\n",
       "      <td>...</td>\n",
       "    </tr>\n",
       "    <tr>\n",
       "      <th>2022-01-31</th>\n",
       "      <td>401.970001</td>\n",
       "      <td>384.556972</td>\n",
       "      <td>514.545699</td>\n",
       "      <td>513.820007</td>\n",
       "    </tr>\n",
       "    <tr>\n",
       "      <th>2022-02-01</th>\n",
       "      <td>432.959991</td>\n",
       "      <td>384.556972</td>\n",
       "      <td>514.545699</td>\n",
       "      <td>513.820007</td>\n",
       "    </tr>\n",
       "    <tr>\n",
       "      <th>2022-02-02</th>\n",
       "      <td>448.250000</td>\n",
       "      <td>384.556972</td>\n",
       "      <td>514.545699</td>\n",
       "      <td>513.820007</td>\n",
       "    </tr>\n",
       "    <tr>\n",
       "      <th>2022-02-03</th>\n",
       "      <td>421.440002</td>\n",
       "      <td>384.556972</td>\n",
       "      <td>514.545699</td>\n",
       "      <td>513.820007</td>\n",
       "    </tr>\n",
       "    <tr>\n",
       "      <th>2022-02-04</th>\n",
       "      <td>407.309998</td>\n",
       "      <td>384.556972</td>\n",
       "      <td>514.545699</td>\n",
       "      <td>513.820007</td>\n",
       "    </tr>\n",
       "  </tbody>\n",
       "</table>\n",
       "<p>200 rows × 4 columns</p>\n",
       "</div>"
      ],
      "text/plain": [
       "                  Open   pred_mean  pred_last_thdays_mean   pred_last\n",
       "Date                                                                 \n",
       "2021-04-23  509.010010  384.556972             514.545699  513.820007\n",
       "2021-04-26  506.760010  384.556972             514.545699  513.820007\n",
       "2021-04-27  512.619995  384.556972             514.545699  513.820007\n",
       "2021-04-28  505.200012  384.556972             514.545699  513.820007\n",
       "2021-04-29  507.600006  384.556972             514.545699  513.820007\n",
       "...                ...         ...                    ...         ...\n",
       "2022-01-31  401.970001  384.556972             514.545699  513.820007\n",
       "2022-02-01  432.959991  384.556972             514.545699  513.820007\n",
       "2022-02-02  448.250000  384.556972             514.545699  513.820007\n",
       "2022-02-03  421.440002  384.556972             514.545699  513.820007\n",
       "2022-02-04  407.309998  384.556972             514.545699  513.820007\n",
       "\n",
       "[200 rows x 4 columns]"
      ]
     },
     "execution_count": 278,
     "metadata": {},
     "output_type": "execute_result"
    }
   ],
   "source": [
    "test.loc[:,'pred_last']=last\n",
    "test"
   ]
  },
  {
   "cell_type": "code",
   "execution_count": 279,
   "id": "87081dfe",
   "metadata": {},
   "outputs": [
    {
     "data": {
      "text/plain": [
       "10.936405131429726"
      ]
     },
     "execution_count": 279,
     "metadata": {},
     "output_type": "execute_result"
    }
   ],
   "source": [
    "mape_last=mape(test['Open'],test['pred_last'])\n",
    "mape_last"
   ]
  },
  {
   "cell_type": "code",
   "execution_count": 280,
   "id": "48397fd5",
   "metadata": {
    "scrolled": true
   },
   "outputs": [
    {
     "data": {
      "text/html": [
       "<div>\n",
       "<style scoped>\n",
       "    .dataframe tbody tr th:only-of-type {\n",
       "        vertical-align: middle;\n",
       "    }\n",
       "\n",
       "    .dataframe tbody tr th {\n",
       "        vertical-align: top;\n",
       "    }\n",
       "\n",
       "    .dataframe thead th {\n",
       "        text-align: right;\n",
       "    }\n",
       "</style>\n",
       "<table border=\"1\" class=\"dataframe\">\n",
       "  <thead>\n",
       "    <tr style=\"text-align: right;\">\n",
       "      <th></th>\n",
       "      <th>Open</th>\n",
       "      <th>pred_mean</th>\n",
       "      <th>pred_last_thdays_mean</th>\n",
       "      <th>pred_last</th>\n",
       "      <th>pred_last_seasonal</th>\n",
       "    </tr>\n",
       "    <tr>\n",
       "      <th>Date</th>\n",
       "      <th></th>\n",
       "      <th></th>\n",
       "      <th></th>\n",
       "      <th></th>\n",
       "      <th></th>\n",
       "    </tr>\n",
       "  </thead>\n",
       "  <tbody>\n",
       "    <tr>\n",
       "      <th>2021-04-23</th>\n",
       "      <td>509.010010</td>\n",
       "      <td>384.556972</td>\n",
       "      <td>514.545699</td>\n",
       "      <td>513.820007</td>\n",
       "      <td>498.579987</td>\n",
       "    </tr>\n",
       "    <tr>\n",
       "      <th>2021-04-26</th>\n",
       "      <td>506.760010</td>\n",
       "      <td>384.556972</td>\n",
       "      <td>514.545699</td>\n",
       "      <td>513.820007</td>\n",
       "      <td>508.399994</td>\n",
       "    </tr>\n",
       "    <tr>\n",
       "      <th>2021-04-27</th>\n",
       "      <td>512.619995</td>\n",
       "      <td>384.556972</td>\n",
       "      <td>514.545699</td>\n",
       "      <td>513.820007</td>\n",
       "      <td>519.729980</td>\n",
       "    </tr>\n",
       "    <tr>\n",
       "      <th>2021-04-28</th>\n",
       "      <td>505.200012</td>\n",
       "      <td>384.556972</td>\n",
       "      <td>514.545699</td>\n",
       "      <td>513.820007</td>\n",
       "      <td>567.979980</td>\n",
       "    </tr>\n",
       "    <tr>\n",
       "      <th>2021-04-29</th>\n",
       "      <td>507.600006</td>\n",
       "      <td>384.556972</td>\n",
       "      <td>514.545699</td>\n",
       "      <td>513.820007</td>\n",
       "      <td>517.080017</td>\n",
       "    </tr>\n",
       "    <tr>\n",
       "      <th>...</th>\n",
       "      <td>...</td>\n",
       "      <td>...</td>\n",
       "      <td>...</td>\n",
       "      <td>...</td>\n",
       "      <td>...</td>\n",
       "    </tr>\n",
       "    <tr>\n",
       "      <th>2022-01-31</th>\n",
       "      <td>401.970001</td>\n",
       "      <td>384.556972</td>\n",
       "      <td>514.545699</td>\n",
       "      <td>513.820007</td>\n",
       "      <td>550.539978</td>\n",
       "    </tr>\n",
       "    <tr>\n",
       "      <th>2022-02-01</th>\n",
       "      <td>432.959991</td>\n",
       "      <td>384.556972</td>\n",
       "      <td>514.545699</td>\n",
       "      <td>513.820007</td>\n",
       "      <td>546.900024</td>\n",
       "    </tr>\n",
       "    <tr>\n",
       "      <th>2022-02-02</th>\n",
       "      <td>448.250000</td>\n",
       "      <td>384.556972</td>\n",
       "      <td>514.545699</td>\n",
       "      <td>513.820007</td>\n",
       "      <td>554.419983</td>\n",
       "    </tr>\n",
       "    <tr>\n",
       "      <th>2022-02-03</th>\n",
       "      <td>421.440002</td>\n",
       "      <td>384.556972</td>\n",
       "      <td>514.545699</td>\n",
       "      <td>513.820007</td>\n",
       "      <td>508.000000</td>\n",
       "    </tr>\n",
       "    <tr>\n",
       "      <th>2022-02-04</th>\n",
       "      <td>407.309998</td>\n",
       "      <td>384.556972</td>\n",
       "      <td>514.545699</td>\n",
       "      <td>513.820007</td>\n",
       "      <td>513.820007</td>\n",
       "    </tr>\n",
       "  </tbody>\n",
       "</table>\n",
       "<p>200 rows × 5 columns</p>\n",
       "</div>"
      ],
      "text/plain": [
       "                  Open   pred_mean  pred_last_thdays_mean   pred_last  \\\n",
       "Date                                                                    \n",
       "2021-04-23  509.010010  384.556972             514.545699  513.820007   \n",
       "2021-04-26  506.760010  384.556972             514.545699  513.820007   \n",
       "2021-04-27  512.619995  384.556972             514.545699  513.820007   \n",
       "2021-04-28  505.200012  384.556972             514.545699  513.820007   \n",
       "2021-04-29  507.600006  384.556972             514.545699  513.820007   \n",
       "...                ...         ...                    ...         ...   \n",
       "2022-01-31  401.970001  384.556972             514.545699  513.820007   \n",
       "2022-02-01  432.959991  384.556972             514.545699  513.820007   \n",
       "2022-02-02  448.250000  384.556972             514.545699  513.820007   \n",
       "2022-02-03  421.440002  384.556972             514.545699  513.820007   \n",
       "2022-02-04  407.309998  384.556972             514.545699  513.820007   \n",
       "\n",
       "            pred_last_seasonal  \n",
       "Date                            \n",
       "2021-04-23          498.579987  \n",
       "2021-04-26          508.399994  \n",
       "2021-04-27          519.729980  \n",
       "2021-04-28          567.979980  \n",
       "2021-04-29          517.080017  \n",
       "...                        ...  \n",
       "2022-01-31          550.539978  \n",
       "2022-02-01          546.900024  \n",
       "2022-02-02          554.419983  \n",
       "2022-02-03          508.000000  \n",
       "2022-02-04          513.820007  \n",
       "\n",
       "[200 rows x 5 columns]"
      ]
     },
     "execution_count": 280,
     "metadata": {},
     "output_type": "execute_result"
    }
   ],
   "source": [
    "# Naive seasonal forecast\n",
    "test.loc[:,'pred_last_seasonal']=train['Open'][-200:].values\n",
    "test"
   ]
  },
  {
   "cell_type": "code",
   "execution_count": 281,
   "id": "89b03e3c",
   "metadata": {},
   "outputs": [
    {
     "data": {
      "text/plain": [
       "11.791237148023804"
      ]
     },
     "execution_count": 281,
     "metadata": {},
     "output_type": "execute_result"
    }
   ],
   "source": [
    "mape_naive_seasonal=mape(test['Open'],test['pred_last_seasonal'])\n",
    "mape_naive_seasonal"
   ]
  },
  {
   "cell_type": "code",
   "execution_count": 282,
   "id": "3c45ddab",
   "metadata": {},
   "outputs": [
    {
     "data": {
      "image/png": "[encoded data removed]",
      "text/plain": [
       "<Figure size 432x288 with 1 Axes>"
      ]
     },
     "metadata": {
      "needs_background": "light"
     },
     "output_type": "display_data"
    }
   ],
   "source": [
    "#plot of all mape \n",
    "fig, ax = plt.subplots()\n",
    "\n",
    "x = ['hist_mean', 'last_thdays_mean', 'last', 'naive_seasonal']\n",
    "y = [30.02, 10.89, 10.93, 11.79]\n",
    "\n",
    "ax.bar(x, y, width=0.4)\n",
    "ax.set_xlabel('Baselines')\n",
    "ax.set_ylabel('MAPE (%)')\n",
    "ax.set_ylim(0, 50)\n",
    "\n",
    "for index, value in enumerate(y):\n",
    "    plt.text(x=index, y=value + 1, s=str(value), ha='center')\n",
    "\n",
    "plt.tight_layout()\n",
    "#The lower the MAPE, the better the baseline; therefore, we’ll choose last 200 days mean baseline as our \n",
    "#benchmark and compare it to our more complex models"
   ]
  },
  {
   "cell_type": "code",
   "execution_count": 283,
   "id": "429d9254",
   "metadata": {},
   "outputs": [],
   "source": [
    "#From the plot of open clearly we see that there is a trend so this is not \n",
    "#stationary but we will just check using adf test again"
   ]
  },
  {
   "cell_type": "code",
   "execution_count": 284,
   "id": "639dcae3",
   "metadata": {},
   "outputs": [
    {
     "name": "stdout",
     "output_type": "stream",
     "text": [
      "ADF Statistic: -1.727556507172675\n",
      "p-value: 0.41697336717910083\n"
     ]
    }
   ],
   "source": [
    "from statsmodels.tsa.stattools import adfuller\n",
    "ADF_result = adfuller(nf['Open']) \n",
    "print(f'ADF Statistic: {ADF_result[0]}') \n",
    "print(f'p-value: {ADF_result[1]}') # as p value>0.05 so it not stationary"
   ]
  },
  {
   "cell_type": "code",
   "execution_count": 285,
   "id": "6b52cdbb",
   "metadata": {},
   "outputs": [],
   "source": [
    "open_diff=np.diff(nf['Open'],n=1) # take first differance"
   ]
  },
  {
   "cell_type": "code",
   "execution_count": 286,
   "id": "a5fd32f4",
   "metadata": {
    "scrolled": true
   },
   "outputs": [
    {
     "data": {
      "image/png": "[encoded data removed]",
      "text/plain": [
       "<Figure size 432x288 with 1 Axes>"
      ]
     },
     "metadata": {
      "needs_background": "light"
     },
     "output_type": "display_data"
    }
   ],
   "source": [
    "import matplotlib.pyplot as plt\n",
    "plt.plot(open_diff)\n",
    "plt.show() # so now graph is looks like stationary"
   ]
  },
  {
   "cell_type": "code",
   "execution_count": 287,
   "id": "e094543b",
   "metadata": {},
   "outputs": [
    {
     "name": "stdout",
     "output_type": "stream",
     "text": [
      "ADF Statistic: -10.574279444480368\n",
      "p-value: 7.172266045215779e-19\n"
     ]
    }
   ],
   "source": [
    "# check stationarity using ADF test\n",
    "from statsmodels.tsa.stattools import adfuller\n",
    "ADF_result = adfuller(open_diff) \n",
    "print(f'ADF Statistic: {ADF_result[0]}') \n",
    "print(f'p-value: {ADF_result[1]}') # as p value<0.05 so it stationary"
   ]
  },
  {
   "cell_type": "code",
   "execution_count": 288,
   "id": "94e98808",
   "metadata": {},
   "outputs": [
    {
     "data": {
      "image/png": "[encoded data removed]",
      "text/plain": [
       "<Figure size 432x288 with 1 Axes>"
      ]
     },
     "metadata": {
      "needs_background": "light"
     },
     "output_type": "display_data"
    }
   ],
   "source": [
    "# we will do acf plot\n",
    "from statsmodels.graphics.tsaplots import plot_acf\n",
    "plot_acf(open_diff, lags=10); \n",
    "plt.tight_layout()"
   ]
  },
  {
   "cell_type": "code",
   "execution_count": 289,
   "id": "c984cc16",
   "metadata": {},
   "outputs": [],
   "source": [
    "#We can see that there are no significant coefficients in the ACF plot. \n",
    "#You might notice that at lags 7 and 10 the coefficients are significant, while the \n",
    "#others are not. This happens by chance with some data, and these points can be \n",
    "#assumed to be non-significant.\n",
    "\n",
    "# so our first difference is stationary and there is no significant correlation\n",
    "# in acf plot so open price of netflix is a random process.\n"
   ]
  },
  {
   "cell_type": "code",
   "execution_count": 290,
   "id": "34db5313",
   "metadata": {},
   "outputs": [],
   "source": [
    "# Forecast of arandom walk process\n",
    "# Forecasting on a long horizon\n",
    "np.random.seed(42)\n",
    "\n",
    "steps = np.random.standard_normal(1009)\n",
    "steps[0]=0\n",
    "\n",
    "random_walk = np.cumsum(steps)"
   ]
  },
  {
   "cell_type": "code",
   "execution_count": 291,
   "id": "1bfbb329",
   "metadata": {},
   "outputs": [
    {
     "data": {
      "image/png": "[encoded data removed]",
      "text/plain": [
       "<Figure size 432x288 with 1 Axes>"
      ]
     },
     "metadata": {
      "needs_background": "light"
     },
     "output_type": "display_data"
    }
   ],
   "source": [
    "fig, ax = plt.subplots()\n",
    "\n",
    "ax.plot(random_walk)\n",
    "ax.set_xlabel('Timesteps')\n",
    "ax.set_ylabel('Value')\n",
    "\n",
    "plt.tight_layout()"
   ]
  },
  {
   "cell_type": "code",
   "execution_count": 292,
   "id": "651455d2",
   "metadata": {},
   "outputs": [],
   "source": [
    "nf=pd.DataFrame({'value': random_walk})\n",
    "train=nf[:-200]\n",
    "test=nf[-200:]"
   ]
  },
  {
   "cell_type": "code",
   "execution_count": 293,
   "id": "01bb9a5d",
   "metadata": {},
   "outputs": [
    {
     "data": {
      "image/png": "[encoded data removed]",
      "text/plain": [
       "<Figure size 432x288 with 1 Axes>"
      ]
     },
     "metadata": {
      "needs_background": "light"
     },
     "output_type": "display_data"
    }
   ],
   "source": [
    "fig, ax = plt.subplots()\n",
    "\n",
    "ax.plot(random_walk)\n",
    "ax.set_xlabel('Timesteps')\n",
    "ax.set_ylabel('Value')\n",
    "ax.axvspan(800, 1009, color='#808080', alpha=0.2)\n",
    "\n",
    "plt.tight_layout()"
   ]
  },
  {
   "cell_type": "code",
   "execution_count": 294,
   "id": "8598854b",
   "metadata": {},
   "outputs": [
    {
     "data": {
      "text/html": [
       "<div>\n",
       "<style scoped>\n",
       "    .dataframe tbody tr th:only-of-type {\n",
       "        vertical-align: middle;\n",
       "    }\n",
       "\n",
       "    .dataframe tbody tr th {\n",
       "        vertical-align: top;\n",
       "    }\n",
       "\n",
       "    .dataframe thead th {\n",
       "        text-align: right;\n",
       "    }\n",
       "</style>\n",
       "<table border=\"1\" class=\"dataframe\">\n",
       "  <thead>\n",
       "    <tr style=\"text-align: right;\">\n",
       "      <th></th>\n",
       "      <th>value</th>\n",
       "      <th>pred_mean</th>\n",
       "    </tr>\n",
       "  </thead>\n",
       "  <tbody>\n",
       "    <tr>\n",
       "      <th>809</th>\n",
       "      <td>-7.397997</td>\n",
       "      <td>-3.712396</td>\n",
       "    </tr>\n",
       "    <tr>\n",
       "      <th>810</th>\n",
       "      <td>-7.584869</td>\n",
       "      <td>-3.712396</td>\n",
       "    </tr>\n",
       "    <tr>\n",
       "      <th>811</th>\n",
       "      <td>-8.024600</td>\n",
       "      <td>-3.712396</td>\n",
       "    </tr>\n",
       "    <tr>\n",
       "      <th>812</th>\n",
       "      <td>-6.577622</td>\n",
       "      <td>-3.712396</td>\n",
       "    </tr>\n",
       "    <tr>\n",
       "      <th>813</th>\n",
       "      <td>-6.381067</td>\n",
       "      <td>-3.712396</td>\n",
       "    </tr>\n",
       "  </tbody>\n",
       "</table>\n",
       "</div>"
      ],
      "text/plain": [
       "        value  pred_mean\n",
       "809 -7.397997  -3.712396\n",
       "810 -7.584869  -3.712396\n",
       "811 -8.024600  -3.712396\n",
       "812 -6.577622  -3.712396\n",
       "813 -6.381067  -3.712396"
      ]
     },
     "execution_count": 294,
     "metadata": {},
     "output_type": "execute_result"
    }
   ],
   "source": [
    "#we can only use naive forecasting methods for this situation, since we are dealing with a random walk. In this case, we will use the historical mean, the last\n",
    "#known value, and the drift method.\n",
    "\n",
    "\n",
    "mean = np.mean(train.value) #calculate the mean of the train set\n",
    "\n",
    "test.loc[:, 'pred_mean'] = mean # predict the historical mean for next 200 timesteps\n",
    "\n",
    "test.head() # show the first five rows of the test"
   ]
  },
  {
   "cell_type": "code",
   "execution_count": 295,
   "id": "3cfb3ea6",
   "metadata": {},
   "outputs": [
    {
     "data": {
      "text/html": [
       "<div>\n",
       "<style scoped>\n",
       "    .dataframe tbody tr th:only-of-type {\n",
       "        vertical-align: middle;\n",
       "    }\n",
       "\n",
       "    .dataframe tbody tr th {\n",
       "        vertical-align: top;\n",
       "    }\n",
       "\n",
       "    .dataframe thead th {\n",
       "        text-align: right;\n",
       "    }\n",
       "</style>\n",
       "<table border=\"1\" class=\"dataframe\">\n",
       "  <thead>\n",
       "    <tr style=\"text-align: right;\">\n",
       "      <th></th>\n",
       "      <th>value</th>\n",
       "      <th>pred_mean</th>\n",
       "      <th>pred_last</th>\n",
       "    </tr>\n",
       "  </thead>\n",
       "  <tbody>\n",
       "    <tr>\n",
       "      <th>809</th>\n",
       "      <td>-7.397997</td>\n",
       "      <td>-3.712396</td>\n",
       "      <td>-6.50339</td>\n",
       "    </tr>\n",
       "    <tr>\n",
       "      <th>810</th>\n",
       "      <td>-7.584869</td>\n",
       "      <td>-3.712396</td>\n",
       "      <td>-6.50339</td>\n",
       "    </tr>\n",
       "    <tr>\n",
       "      <th>811</th>\n",
       "      <td>-8.024600</td>\n",
       "      <td>-3.712396</td>\n",
       "      <td>-6.50339</td>\n",
       "    </tr>\n",
       "    <tr>\n",
       "      <th>812</th>\n",
       "      <td>-6.577622</td>\n",
       "      <td>-3.712396</td>\n",
       "      <td>-6.50339</td>\n",
       "    </tr>\n",
       "    <tr>\n",
       "      <th>813</th>\n",
       "      <td>-6.381067</td>\n",
       "      <td>-3.712396</td>\n",
       "      <td>-6.50339</td>\n",
       "    </tr>\n",
       "  </tbody>\n",
       "</table>\n",
       "</div>"
      ],
      "text/plain": [
       "        value  pred_mean  pred_last\n",
       "809 -7.397997  -3.712396   -6.50339\n",
       "810 -7.584869  -3.712396   -6.50339\n",
       "811 -8.024600  -3.712396   -6.50339\n",
       "812 -6.577622  -3.712396   -6.50339\n",
       "813 -6.381067  -3.712396   -6.50339"
      ]
     },
     "execution_count": 295,
     "metadata": {},
     "output_type": "execute_result"
    }
   ],
   "source": [
    "last_value = train.iloc[-1].value #retrieve the last value of the train set\n",
    "\n",
    "test.loc[:, 'pred_last'] = last_value # assign the last value as a prediction for the next 200 timesteps under the pred_last column\n",
    "\n",
    "test.head()"
   ]
  },
  {
   "cell_type": "code",
   "execution_count": 296,
   "id": "b6d3b15b",
   "metadata": {
    "scrolled": false
   },
   "outputs": [
    {
     "name": "stdout",
     "output_type": "stream",
     "text": [
      "-0.00804875001066646\n"
     ]
    },
    {
     "data": {
      "text/html": [
       "<div>\n",
       "<style scoped>\n",
       "    .dataframe tbody tr th:only-of-type {\n",
       "        vertical-align: middle;\n",
       "    }\n",
       "\n",
       "    .dataframe tbody tr th {\n",
       "        vertical-align: top;\n",
       "    }\n",
       "\n",
       "    .dataframe thead th {\n",
       "        text-align: right;\n",
       "    }\n",
       "</style>\n",
       "<table border=\"1\" class=\"dataframe\">\n",
       "  <thead>\n",
       "    <tr style=\"text-align: right;\">\n",
       "      <th></th>\n",
       "      <th>value</th>\n",
       "      <th>pred_mean</th>\n",
       "      <th>pred_last</th>\n",
       "      <th>pred_drift</th>\n",
       "    </tr>\n",
       "  </thead>\n",
       "  <tbody>\n",
       "    <tr>\n",
       "      <th>809</th>\n",
       "      <td>-7.397997</td>\n",
       "      <td>-3.712396</td>\n",
       "      <td>-6.50339</td>\n",
       "      <td>-6.519488</td>\n",
       "    </tr>\n",
       "    <tr>\n",
       "      <th>810</th>\n",
       "      <td>-7.584869</td>\n",
       "      <td>-3.712396</td>\n",
       "      <td>-6.50339</td>\n",
       "      <td>-6.527536</td>\n",
       "    </tr>\n",
       "    <tr>\n",
       "      <th>811</th>\n",
       "      <td>-8.024600</td>\n",
       "      <td>-3.712396</td>\n",
       "      <td>-6.50339</td>\n",
       "      <td>-6.535585</td>\n",
       "    </tr>\n",
       "    <tr>\n",
       "      <th>812</th>\n",
       "      <td>-6.577622</td>\n",
       "      <td>-3.712396</td>\n",
       "      <td>-6.50339</td>\n",
       "      <td>-6.543634</td>\n",
       "    </tr>\n",
       "    <tr>\n",
       "      <th>813</th>\n",
       "      <td>-6.381067</td>\n",
       "      <td>-3.712396</td>\n",
       "      <td>-6.50339</td>\n",
       "      <td>-6.551683</td>\n",
       "    </tr>\n",
       "  </tbody>\n",
       "</table>\n",
       "</div>"
      ],
      "text/plain": [
       "        value  pred_mean  pred_last  pred_drift\n",
       "809 -7.397997  -3.712396   -6.50339   -6.519488\n",
       "810 -7.584869  -3.712396   -6.50339   -6.527536\n",
       "811 -8.024600  -3.712396   -6.50339   -6.535585\n",
       "812 -6.577622  -3.712396   -6.50339   -6.543634\n",
       "813 -6.381067  -3.712396   -6.50339   -6.551683"
      ]
     },
     "execution_count": 296,
     "metadata": {},
     "output_type": "execute_result"
    }
   ],
   "source": [
    "deltaX = 809 - 1 # calculate the change in x axis which the differnce between\n",
    "# the last index(807) and the first index (0) which is equivalent the number of timesteps minus 1\n",
    "deltaY = last_value - 0\n",
    "\n",
    "drift = deltaY / deltaX # calculate dirft\n",
    "print(drift)\n",
    "\n",
    "x_vals = np.arange(810, 1010, 1)\n",
    "\n",
    "pred_drift = drift * x_vals\n",
    "\n",
    "test.loc[:, 'pred_drift'] = pred_drift\n",
    "\n",
    "test.head()"
   ]
  },
  {
   "cell_type": "code",
   "execution_count": 297,
   "id": "c2804f53",
   "metadata": {},
   "outputs": [],
   "source": [
    "#this gives us a drift of –0.008, which means that the values of our forecasts will slowly decrease over time"
   ]
  },
  {
   "cell_type": "code",
   "execution_count": null,
   "id": "3751b800",
   "metadata": {},
   "outputs": [],
   "source": []
  },
  {
   "cell_type": "code",
   "execution_count": null,
   "id": "75e919e4",
   "metadata": {},
   "outputs": [],
   "source": []
  },
  {
   "cell_type": "code",
   "execution_count": 298,
   "id": "58561efc",
   "metadata": {},
   "outputs": [
    {
     "data": {
      "text/plain": [
       "Text(0, 0.5, 'Value')"
      ]
     },
     "execution_count": 298,
     "metadata": {},
     "output_type": "execute_result"
    },
    {
     "data": {
      "image/png": "[encoded data removed]",
      "text/plain": [
       "<Figure size 432x288 with 1 Axes>"
      ]
     },
     "metadata": {
      "needs_background": "light"
     },
     "output_type": "display_data"
    }
   ],
   "source": [
    "fig, ax = plt.subplots()\n",
    "\n",
    "ax.plot(train.value, 'b-')\n",
    "ax.plot(test['value'], 'b-')\n",
    "ax.plot(test['pred_mean'], 'r-.', label='Mean')\n",
    "ax.plot(test['pred_last'], 'g--', label='Last value')\n",
    "ax.plot(test['pred_drift'], 'k:', label='Drift')\n",
    "\n",
    "ax.axvspan(800, 1009, color='#808080', alpha=0.2)\n",
    "ax.legend(loc=2)\n",
    "\n",
    "ax.set_xlabel('Timesteps')\n",
    "ax.set_ylabel('Value')\n",
    "# We can see that our forecasts are faulty. They all fail to predict the sudden increase observed in the test set, which makes sense, because the future change in\n",
    "#a random walk is completely random, and therefore unpredictable."
   ]
  },
  {
   "cell_type": "code",
   "execution_count": 299,
   "id": "f1493f48",
   "metadata": {},
   "outputs": [
    {
     "name": "stdout",
     "output_type": "stream",
     "text": [
      "356.379830348255 450.5662649306134 490.31613847334745\n"
     ]
    }
   ],
   "source": [
    "from sklearn.metrics import mean_squared_error\n",
    "\n",
    "mse_mean = mean_squared_error(test['value'], test['pred_mean'])\n",
    "mse_last = mean_squared_error(test['value'], test['pred_last'])\n",
    "mse_drift = mean_squared_error(test['value'], test['pred_drift'])\n",
    "\n",
    "print(mse_mean, mse_last, mse_drift)"
   ]
  },
  {
   "cell_type": "code",
   "execution_count": 300,
   "id": "b56d7df4",
   "metadata": {},
   "outputs": [
    {
     "data": {
      "image/png": "[encoded data removed]",
      "text/plain": [
       "<Figure size 432x288 with 1 Axes>"
      ]
     },
     "metadata": {
      "needs_background": "light"
     },
     "output_type": "display_data"
    }
   ],
   "source": [
    "fig, ax = plt.subplots()\n",
    "\n",
    "x = ['mean', 'last_value', 'drift']\n",
    "y = [mse_mean, mse_last, mse_drift]\n",
    "\n",
    "ax.bar(x, y, width=0.4)\n",
    "ax.set_xlabel('Methods')\n",
    "ax.set_ylabel('MSE')\n",
    "ax.set_ylim(0, 700)\n",
    "\n",
    "for index, value in enumerate(y):\n",
    "    plt.text(x=index, y=value+5, s=str(round(value, 2)), ha='center')\n",
    "\n",
    "plt.tight_layout()"
   ]
  },
  {
   "cell_type": "code",
   "execution_count": 301,
   "id": "34e82bb8",
   "metadata": {},
   "outputs": [],
   "source": [
    "# Forecast the next timestep"
   ]
  },
  {
   "cell_type": "code",
   "execution_count": 302,
   "id": "cd05f008",
   "metadata": {},
   "outputs": [
    {
     "data": {
      "text/html": [
       "<div>\n",
       "<style scoped>\n",
       "    .dataframe tbody tr th:only-of-type {\n",
       "        vertical-align: middle;\n",
       "    }\n",
       "\n",
       "    .dataframe tbody tr th {\n",
       "        vertical-align: top;\n",
       "    }\n",
       "\n",
       "    .dataframe thead th {\n",
       "        text-align: right;\n",
       "    }\n",
       "</style>\n",
       "<table border=\"1\" class=\"dataframe\">\n",
       "  <thead>\n",
       "    <tr style=\"text-align: right;\">\n",
       "      <th></th>\n",
       "      <th>value</th>\n",
       "    </tr>\n",
       "  </thead>\n",
       "  <tbody>\n",
       "    <tr>\n",
       "      <th>0</th>\n",
       "      <td>NaN</td>\n",
       "    </tr>\n",
       "    <tr>\n",
       "      <th>1</th>\n",
       "      <td>0.000000</td>\n",
       "    </tr>\n",
       "    <tr>\n",
       "      <th>2</th>\n",
       "      <td>-0.138264</td>\n",
       "    </tr>\n",
       "    <tr>\n",
       "      <th>3</th>\n",
       "      <td>0.509424</td>\n",
       "    </tr>\n",
       "    <tr>\n",
       "      <th>4</th>\n",
       "      <td>2.032454</td>\n",
       "    </tr>\n",
       "  </tbody>\n",
       "</table>\n",
       "</div>"
      ],
      "text/plain": [
       "      value\n",
       "0       NaN\n",
       "1  0.000000\n",
       "2 -0.138264\n",
       "3  0.509424\n",
       "4  2.032454"
      ]
     },
     "execution_count": 302,
     "metadata": {},
     "output_type": "execute_result"
    }
   ],
   "source": [
    "nf_shift = nf.shift(periods=1) #nf_shift is now our forecast over the entire random walk, and it corresponds \n",
    "#to the last known value at each timestep\n",
    "\n",
    "nf_shift.head()"
   ]
  },
  {
   "cell_type": "code",
   "execution_count": 303,
   "id": "9f35e6a2",
   "metadata": {},
   "outputs": [
    {
     "data": {
      "image/png": "[encoded data removed]",
      "text/plain": [
       "<Figure size 432x288 with 1 Axes>"
      ]
     },
     "metadata": {
      "needs_background": "light"
     },
     "output_type": "display_data"
    }
   ],
   "source": [
    "fig, ax = plt.subplots()\n",
    "\n",
    "ax.plot(nf, 'b-', label='actual')\n",
    "ax.plot(nf_shift, 'r-.', label='forecast')\n",
    "\n",
    "ax.legend(loc=2)\n",
    "\n",
    "ax.set_xlabel('Timesteps')\n",
    "ax.set_ylabel('Value')\n",
    "\n",
    "plt.tight_layout()\n",
    "#A naive forecast of the next timestep of a random walk. This plot gives the illusion of a very good model, when we are in fact only predicting the value \n",
    "#observed at the previous timestep.\n",
    "#It seems that we do not have two separate lines in the graph, since both of them almost perfectly overlap, which is a sign of a perfect\n",
    "#fit. Now, we can calculate the MSE"
   ]
  },
  {
   "cell_type": "code",
   "execution_count": 304,
   "id": "4d2960a8",
   "metadata": {},
   "outputs": [
    {
     "data": {
      "text/plain": [
       "0.939060114354059"
      ]
     },
     "execution_count": 304,
     "metadata": {},
     "output_type": "execute_result"
    }
   ],
   "source": [
    "mse_one_step = mean_squared_error(test['value'], nf_shift[809:])\n",
    "\n",
    "mse_one_step #Calculate the MSE on the test set.\n"
   ]
  },
  {
   "cell_type": "code",
   "execution_count": 305,
   "id": "6d0b65b2",
   "metadata": {
    "scrolled": true
   },
   "outputs": [
    {
     "data": {
      "image/png": "[encoded data removed]",
      "text/plain": [
       "<Figure size 432x288 with 1 Axes>"
      ]
     },
     "metadata": {
      "needs_background": "light"
     },
     "output_type": "display_data"
    }
   ],
   "source": [
    "fig, ax = plt.subplots()\n",
    "\n",
    "ax.plot(nf, 'b-', label='actual')\n",
    "ax.plot(nf_shift, 'r-.', label='forecast')\n",
    "\n",
    "ax.legend(loc=2)\n",
    "\n",
    "ax.set_xlim(900, 1009)\n",
    "ax.set_ylim(15, 28)\n",
    "\n",
    "ax.set_xlabel('Timesteps')\n",
    "ax.set_ylabel('Value')\n",
    "\n",
    "plt.tight_layout()\n",
    "\n",
    "#Close-up on the last 100 timesteps of our random walk. Here we can see how our forecasts are a simple shift of the original time series"
   ]
  },
  {
   "cell_type": "code",
   "execution_count": 306,
   "id": "135c4444",
   "metadata": {},
   "outputs": [],
   "source": [
    "#Therefore, if a random walk process must be forecast, it is better to make manyshort-term forecasts. That way, we do not allow for many random numbers to accumulate over time, which will degrade the quality of our forecasts in the long term. \n",
    "#Because a random process takes random steps into the future, we cannot use statistical or deep learning techniques to fit such a process there is nothing to learn from randomness and it cannot be predicted. Instead, we must rely on naive forecasting methods.\n",
    "#Ultimately, we cannot predict random movements"
   ]
  },
  {
   "cell_type": "code",
   "execution_count": null,
   "id": "be1828e7",
   "metadata": {},
   "outputs": [],
   "source": []
  },
  {
   "cell_type": "code",
   "execution_count": null,
   "id": "c4d00dd3",
   "metadata": {},
   "outputs": [],
   "source": []
  },
  {
   "cell_type": "code",
   "execution_count": null,
   "id": "e7b778c5",
   "metadata": {},
   "outputs": [],
   "source": []
  }
 ],
 "metadata": {
  "kernelspec": {
   "display_name": "Python 3 (ipykernel)",
   "language": "python",
   "name": "python3"
  },
  "language_info": {
   "codemirror_mode": {
    "name": "ipython",
    "version": 3
   },
   "file_extension": ".py",
   "mimetype": "text/x-python",
   "name": "python",
   "nbconvert_exporter": "python",
   "pygments_lexer": "ipython3",
   "version": "3.9.7"
  }
 },
 "nbformat": 4,
 "nbformat_minor": 5
}
